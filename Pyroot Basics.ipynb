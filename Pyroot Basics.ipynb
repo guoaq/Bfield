{
 "cells": [
  {
   "cell_type": "markdown",
   "metadata": {},
   "source": [
    "# Pyroot Basics modified by Guoaq"
   ]
  },
  {
   "cell_type": "markdown",
   "metadata": {},
   "source": [
    "In this notebook we will review the basics of pyroot. Pyroot provides a python interface to root, allowing for simpler code.\n",
    "As usual there is a tradeoff between simplicity (or more general code) and performance. However, in an interactive usage the biggest bottleneck is generally the speed at which code is written, debugged and tested.\n",
    "\n",
    "We will start with a simple example: draw a canvas with a function in it. This is the time to introduce two important extensions for specific to the ipython notebook:\n",
    "\n",
    "1. **rootnotes**: a wrapper for TCanvas. Normally, when drawing a TCanvas a new window would pop up. By creating the canvas via rootnotes the figure will instead be embedded in the notebook. \n",
    "\n",
    "2. **%%rootprint**: an ipython magic command allowing to capture output that root would normally direct to the terminal and display it in the cell. Normally, any python output will be written under the corresponding cell, however, some root functions produce output that go directly in the terminal (such as fit results). This command must be the first one in the cell and will capture all outputs. However, if this command is used for a cell, the canvas cannot be shown in the same cell.  "
   ]
  },
  {
   "cell_type": "code",
   "execution_count": 3,
   "metadata": {
    "collapsed": false
   },
   "outputs": [
    {
     "name": "stdout",
     "output_type": "stream",
     "text": [
      "\r\n",
      "\u001b[1mRooFit v3.60 -- Developed by Wouter Verkerke and David Kirkby\u001b[0m \r\n",
      "                Copyright (C) 2000-2013 NIKHEF, University of California & Stanford University\r\n",
      "                All rights reserved, please read http://roofit.sourceforge.net/license.txt\r\n",
      "\r\n"
     ]
    }
   ],
   "source": [
    "import ROOT\n",
    "from ROOT import gROOT, TCanvas, TF1, TFile, TTree, gRandom, TH1F\n",
    "import rootnotes\n",
    "import rootprint\n",
    "import utils"
   ]
  },
  {
   "cell_type": "code",
   "execution_count": 4,
   "metadata": {
    "collapsed": false
   },
   "outputs": [
    {
     "data": {
      "image/png": "[encoded data removed]",
      "text/plain": [
       "<ROOT.TCanvas object (\"Example with Formula\") at 0x11b6100c0>"
      ]
     },
     "execution_count": 4,
     "metadata": {},
     "output_type": "execute_result"
    },
    {
     "name": "stderr",
     "output_type": "stream",
     "text": [
      "Info in <TCanvas::Print>: png file /var/folders/qv/wttd0q9146d_412j470pwggc0000gn/T/tmp0nI3o5.png has been created\r\n"
     ]
    }
   ],
   "source": [
    "gROOT.Reset()\n",
    "\n",
    "# This is what you would normally do in pyroot\n",
    "# c1 = TCanvas( 'c1', 'Example with Formula', 200, 10, 700, 500 )\n",
    "# This is to draw the canvas embedded in the notebook\n",
    "c1 = rootnotes.canvas(\"Example with Formula\", (400, 400))\n",
    "\n",
    "# Create a one dimensional function and draw it\n",
    "fun1 = TF1( 'fun1', 'abs(sin(x)/x)', 0, 10 )\n",
    "c1.SetGridx()\n",
    "#c1.SetGridy()\n",
    "fun1.Draw()\n",
    "\n",
    "c1"
   ]
  },
  {
   "cell_type": "markdown",
   "metadata": {},
   "source": [
    "#### Produce a tree"
   ]
  },
  {
   "cell_type": "markdown",
   "metadata": {},
   "source": [
    "The output file will include a tree filled sampling values from a gaussian distribution and a histogram filled with a uniform distribution"
   ]
  },
  {
   "cell_type": "code",
   "execution_count": 5,
   "metadata": {
    "collapsed": false
   },
   "outputs": [
    {
     "name": "stdout",
     "output_type": "stream",
     "text": [
      "Writing a tree and filling a histogram\n"
     ]
    }
   ],
   "source": [
    "import numpy\n",
    "\n",
    "print \"Writing a tree and filling a histogram\"\n",
    "\n",
    "f = TFile(\"tree.root\", \"recreate\")\n",
    "t = TTree(\"name_of_tree\", \"tree title\")\n",
    "\n",
    "# create 1 dimensional float arrays (python's float datatype corresponds to c++ doubles)\n",
    "# as fill variables\n",
    "n = numpy.zeros(1, dtype=float)\n",
    "\n",
    "# create the branches and assign the fill-variables to them\n",
    "t.Branch('gaus', n, 'gaus/D')\n",
    "\n",
    "# create the histograms\n",
    "hUniform = TH1F(\"uniform\", \"uniform\", 20, 0, 1)\n",
    "\n",
    "# create some random numbers, fill them into the fill varibles and call Fill()\n",
    "for i in xrange(10000):\n",
    "\tn[0] = gRandom.Gaus()\n",
    "\tt.Fill()\n",
    "\thUniform.Fill( gRandom.Uniform() )\n",
    "\n",
    "\n",
    "# write the tree into the output file and close the file\n",
    "f.Write()\n",
    "f.Close()"
   ]
  },
  {
   "cell_type": "markdown",
   "metadata": {},
   "source": [
    "#### Capturing output"
   ]
  },
  {
   "cell_type": "markdown",
   "metadata": {},
   "source": [
    "Use the rootprint. This is included in utils.py.\n",
    "Try to uncomment the magic command and rerun the code."
   ]
  },
  {
   "cell_type": "code",
   "execution_count": 6,
   "metadata": {
    "collapsed": false
   },
   "outputs": [
    {
     "name": "stdout",
     "output_type": "stream",
     "text": [
      "TFile**\t\ttree.root\t\n",
      " TFile*\t\ttree.root\t\n",
      "  KEY: TTree\tname_of_tree;1\ttree title\n",
      "  KEY: TH1F\tuniform;1\tuniform\n",
      "******************************************************************************\n",
      "*Tree    :name_of_tree: tree title                                             *\n",
      "*Entries :    10000 : Total =           81069 bytes  File  Size =      72438 *\n",
      "*        :          : Tree compression factor =   1.11                       *\n",
      "******************************************************************************\n",
      "*Br    0 :gaus      : gaus/D                                                 *\n",
      "*Entries :    10000 : Total  Size=      80715 bytes  File Size  =      72041 *\n",
      "*Baskets :        3 : Basket Size=      32000 bytes  Compression=   1.11     *\n",
      "*............................................................................*\n",
      "\n"
     ]
    }
   ],
   "source": [
    "%%rootprint\n",
    "\n",
    "inputFile = TFile(\"tree.root\")\n",
    "inputFile.ls()\n",
    "tree = inputFile.Get(\"name_of_tree\")\n",
    "tree.Print()"
   ]
  },
  {
   "cell_type": "markdown",
   "metadata": {},
   "source": [
    "Superimposing two distributions on the same canvas"
   ]
  },
  {
   "cell_type": "code",
   "execution_count": 7,
   "metadata": {
    "collapsed": false
   },
   "outputs": [
    {
     "name": "stdout",
     "output_type": "stream",
     "text": [
      "\n"
     ]
    }
   ],
   "source": [
    "%%rootprint\n",
    "\n",
    "hUniform = inputFile.FindObjectAny(\"uniform\")\n",
    "\n",
    "c2 = rootnotes.canvas(\"TreeCanvas\", (800, 400))\n",
    "c2.Divide(2)\n",
    "c2.cd(1)\n",
    "tree.Draw(\"gaus\")\n",
    "c2.cd(2)\n",
    "hUniform.GetYaxis().SetRangeUser(0,1000)\n",
    "hUniform.Draw()"
   ]
  },
  {
   "cell_type": "code",
   "execution_count": 13,
   "metadata": {
    "collapsed": false
   },
   "outputs": [],
   "source": [
    "c2"
   ]
  },
  {
   "cell_type": "markdown",
   "metadata": {},
   "source": [
    "#### How to draw a TGraph"
   ]
  },
  {
   "cell_type": "markdown",
   "metadata": {},
   "source": [
    "A TGraph expects C arrays so it will not accept a python list [1,2,...]. The list can be converted into an array using python \"array\" module"
   ]
  },
  {
   "cell_type": "code",
   "execution_count": 8,
   "metadata": {
    "collapsed": false
   },
   "outputs": [
    {
     "data": {
      "image/png": "[encoded data removed]",
      "text/plain": [
       "<ROOT.TCanvas object (\"graphCanvas\") at 0x11a7d8c00>"
      ]
     },
     "execution_count": 8,
     "metadata": {},
     "output_type": "execute_result"
    },
    {
     "name": "stderr",
     "output_type": "stream",
     "text": [
      "Info in <TCanvas::Print>: png file /var/folders/qv/wttd0q9146d_412j470pwggc0000gn/T/tmpC6junK.png has been created\r\n"
     ]
    }
   ],
   "source": [
    "from array import array\n",
    "import math\n",
    "\n",
    "nBins = 20\n",
    "x = []\n",
    "y = [0]*nBins\n",
    "for i in range(nBins):\n",
    "    x.append(i*0.1)\n",
    "    y[i] = 10*math.sin(x[i]+0.2)\n",
    "\n",
    "graphCanvas = rootnotes.canvas(\"graphCanvas\", (400, 400))\n",
    "# The lists must be converted to C arrays\n",
    "g = ROOT.TGraph(nBins, array('d', x), array('d', y))\n",
    "# \"A\" option is required because the TGraph will not create the TAxis by default\n",
    "ROOT.gStyle.SetMarkerStyle(8)\n",
    "ROOT.gStyle.SetMarkerSize(2)\n",
    "g.Draw(\"AP\")\n",
    "graphCanvas"
   ]
  },
  {
   "cell_type": "markdown",
   "metadata": {},
   "source": [
    "### Exercise"
   ]
  },
  {
   "cell_type": "markdown",
   "metadata": {},
   "source": [
    "**Question 1**: do a fit of the gaussian and the linear distributions. Get the fit parameters and plot the fit function."
   ]
  },
  {
   "cell_type": "code",
   "execution_count": null,
   "metadata": {
    "collapsed": false
   },
   "outputs": [],
   "source": []
  }
 ],
 "metadata": {
  "kernelspec": {
   "display_name": "Python 2",
   "language": "python",
   "name": "python2"
  },
  "language_info": {
   "codemirror_mode": {
    "name": "ipython",
    "version": 2
   },
   "file_extension": ".py",
   "mimetype": "text/x-python",
   "name": "python",
   "nbconvert_exporter": "python",
   "pygments_lexer": "ipython2",
   "version": "2.7.11"
  }
 },
 "nbformat": 4,
 "nbformat_minor": 0
}
